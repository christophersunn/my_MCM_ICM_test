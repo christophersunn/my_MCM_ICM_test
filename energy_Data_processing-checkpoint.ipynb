{
 "cells": [
  {
   "cell_type": "code",
   "execution_count": 143,
   "metadata": {},
   "outputs": [
    {
     "name": "stdout",
     "output_type": "stream",
     "text": [
      "Once deleted, variables cannot be recovered. Proceed (y/[n])? y\n"
     ]
    }
   ],
   "source": [
    "# Import necessary libraries and reset\n",
    "%reset\n",
    "import pandas as pd\n",
    "import numpy as np\n",
    "import seaborn as sns\n",
    "import matplotlib.pyplot as plt"
   ]
  },
  {
   "cell_type": "markdown",
   "metadata": {},
   "source": [
    "## 数据预处理"
   ]
  },
  {
   "cell_type": "code",
   "execution_count": null,
   "metadata": {},
   "outputs": [],
   "source": [
    "# 2022/1/17/18:00 again"
   ]
  },
  {
   "cell_type": "code",
   "execution_count": 160,
   "metadata": {},
   "outputs": [],
   "source": [
    "origin_data = pd.read_excel('originaldata.xlsx')"
   ]
  },
  {
   "cell_type": "code",
   "execution_count": null,
   "metadata": {},
   "outputs": [],
   "source": []
  },
  {
   "cell_type": "code",
   "execution_count": 162,
   "metadata": {},
   "outputs": [],
   "source": [
    "# 筛选各个州数据\n",
    "# AZ_data = origin_data[(origin_data.StateCode == 'AZ') & (origin_data.Year == 2008)]\n",
    "AZ_ori = origin_data[origin_data.StateCode == 'AZ']\n",
    "TX_ori = origin_data[origin_data['StateCode'] == 'TX']\n",
    "CA_ori = origin_data[origin_data['StateCode'] == 'CA']\n",
    "NM_ori = origin_data[origin_data['StateCode'] == 'NM']"
   ]
  },
  {
   "cell_type": "code",
   "execution_count": 48,
   "metadata": {},
   "outputs": [],
   "source": [
    "# 数据表纵向\n",
    "msn = AZ_data['MSN'].value_counts().index\n",
    "year = list(range(1960,2010))"
   ]
  },
  {
   "cell_type": "code",
   "execution_count": 106,
   "metadata": {},
   "outputs": [],
   "source": [
    "NM_data2 = pd.DataFrame(index = year, columns = msn, dtype = int)"
   ]
  },
  {
   "cell_type": "code",
   "execution_count": 107,
   "metadata": {},
   "outputs": [],
   "source": [
    "NM_data.index = list(range(len(NM_data)))"
   ]
  },
  {
   "cell_type": "code",
   "execution_count": 108,
   "metadata": {},
   "outputs": [],
   "source": [
    "a = 0\n",
    "for i in range(len(NM_data)):\n",
    "    NM_data2.loc[NM_data.loc[i].Year,NM_data.loc[i].MSN] = NM_data.loc[i].Data"
   ]
  },
  {
   "cell_type": "code",
   "execution_count": 164,
   "metadata": {},
   "outputs": [],
   "source": [
    "NM_ori = pd.read_csv('NM_data.csv')\n",
    "CA_ori = pd.read_csv('CA_data.csv')\n",
    "TX_ori = pd.read_csv('TX_data.csv')\n",
    "AZ_ori = pd.read_csv('AZ_data.csv')"
   ]
  },
  {
   "cell_type": "code",
   "execution_count": 156,
   "metadata": {},
   "outputs": [],
   "source": [
    "# 变量选取['CLTCB','NGTCB','PATCB','NUETB','BMTCB','GETCB','SOTCB','HYTCB','WYTCB','TECCB','TEICB','TEEIB','TERCB','TEACB','GDPGV']\n",
    "variable =['CLTCB','NGTCB','PATCB','NUETB','BMTCB','GETCB','SOTCB','HYTCB','WYTCB','TECCB','TEICB','TEEIB','TERCB','TEACB','GDPRV']"
   ]
  },
  {
   "cell_type": "code",
   "execution_count": 158,
   "metadata": {},
   "outputs": [],
   "source": [
    "NM_data = NM_data.reindex(columns=variable)\n",
    "CA_data = CA_data.reindex(columns=variable)\n",
    "TX_data = TX_data.reindex(columns=variable)\n",
    "AZ_data = AZ_data.reindex(columns=variable)"
   ]
  },
  {
   "cell_type": "code",
   "execution_count": 154,
   "metadata": {},
   "outputs": [],
   "source": [
    "# NM_data.to_csv('NM_use.csv')\n",
    "# CA_data.to_csv('CA_use.csv')\n",
    "# TX_data.to_csv('TX_use.csv')\n",
    "# AZ_data.to_csv('AZ_use.csv')\n",
    "NM_data = pd.read_csv('NM_use.csv')\n",
    "CA_data = pd.read_csv('CA_use.csv')\n",
    "TX_data = pd.read_csv('TX_use.csv')\n",
    "AZ_data = pd.read_csv('AZ_use.csv')"
   ]
  },
  {
   "cell_type": "code",
   "execution_count": 161,
   "metadata": {},
   "outputs": [],
   "source": [
    "year = list(range(1960,2010))"
   ]
  },
  {
   "cell_type": "code",
   "execution_count": 164,
   "metadata": {},
   "outputs": [
    {
     "data": {
      "image/png": "[encoded data removed]",
      "text/plain": [
       "<Figure size 432x288 with 1 Axes>"
      ]
     },
     "metadata": {
      "needs_background": "light"
     },
     "output_type": "display_data"
    }
   ],
   "source": [
    "# 空缺值不进行考虑，全都集中在年份首部 GDPRV首部空缺\n",
    "fig = plt.figure()\n",
    "axs1 = fig.add_subplot(111)\n",
    "axs1.plot(year,NM_data.GDPRV)\n",
    "plt.show()"
   ]
  },
  {
   "cell_type": "code",
   "execution_count": 25,
   "metadata": {},
   "outputs": [],
   "source": [
    "# 80以前数据平滑，简单的线性拟合补全1960到1970"
   ]
  },
  {
   "cell_type": "code",
   "execution_count": 76,
   "metadata": {},
   "outputs": [],
   "source": [
    "year_pre = np.array(list(range(1960,1970))).reshape(-1,1)\n",
    "year_test =np.array(list(range(1970,2000))).reshape(-1,1)"
   ]
  },
  {
   "cell_type": "markdown",
   "metadata": {},
   "source": [
    "### 线性拟合"
   ]
  },
  {
   "cell_type": "code",
   "execution_count": 211,
   "metadata": {},
   "outputs": [
    {
     "data": {
      "text/plain": [
       "LinearRegression(copy_X=True, fit_intercept=True, n_jobs=1, normalize=False)"
      ]
     },
     "execution_count": 211,
     "metadata": {},
     "output_type": "execute_result"
    }
   ],
   "source": [
    "from sklearn import linear_model    \n",
    "model = linear_model.LinearRegression()\n",
    "model.fit(year_test,NM_data.GDPRV[10:20])"
   ]
  },
  {
   "cell_type": "code",
   "execution_count": 213,
   "metadata": {},
   "outputs": [
    {
     "data": {
      "text/plain": [
       "array([963.90909091])"
      ]
     },
     "execution_count": 213,
     "metadata": {},
     "output_type": "execute_result"
    }
   ],
   "source": [
    "model.coef_   # 系数"
   ]
  },
  {
   "cell_type": "code",
   "execution_count": 214,
   "metadata": {},
   "outputs": [
    {
     "data": {
      "text/plain": [
       "array([-5967.18181818, -5003.27272727, -4039.36363636, -3075.45454545,\n",
       "       -2111.54545455, -1147.63636364,  -183.72727273,   780.18181818,\n",
       "        1744.09090909,  2708.        ])"
      ]
     },
     "execution_count": 214,
     "metadata": {},
     "output_type": "execute_result"
    }
   ],
   "source": [
    "model.predict(year_pre) # 线性回归失败，有负数，改用多项式"
   ]
  },
  {
   "cell_type": "markdown",
   "metadata": {},
   "source": [
    "## 多项式回归"
   ]
  },
  {
   "cell_type": "code",
   "execution_count": 51,
   "metadata": {},
   "outputs": [],
   "source": [
    "import sklearn.pipeline as pl\n",
    "import sklearn.linear_model as lm\n",
    "import sklearn.preprocessing as sp\n",
    "import matplotlib.pyplot as plt\n",
    "import sklearn.metrics as sm"
   ]
  },
  {
   "cell_type": "code",
   "execution_count": 81,
   "metadata": {},
   "outputs": [],
   "source": [
    "# 二项式拟合\n",
    "pipe = pl.Pipeline([('dimensions', sp.PolynomialFeatures(2)), ('line', lm.LinearRegression())])\n",
    "NM_clf = pipe.fit(year_test, NM_data.GDPRV[10:40])\n",
    "gdp = NM_clf.predict(year_pre)"
   ]
  },
  {
   "cell_type": "code",
   "execution_count": 72,
   "metadata": {},
   "outputs": [
    {
     "data": {
      "text/plain": [
       "array([ 0.00000000e+00, -1.28863746e+05,  3.28585500e+01])"
      ]
     },
     "execution_count": 72,
     "metadata": {},
     "output_type": "execute_result"
    }
   ],
   "source": [
    "pipe['line'].coef_    # NM 拟合参数[1,x,x平方]"
   ]
  },
  {
   "cell_type": "code",
   "execution_count": 78,
   "metadata": {
    "collapsed": true
   },
   "outputs": [
    {
     "data": {
      "text/plain": [
       "array([[1.000000e+00, 1.970000e+03, 3.880900e+06],\n",
       "       [1.000000e+00, 1.971000e+03, 3.884841e+06],\n",
       "       [1.000000e+00, 1.972000e+03, 3.888784e+06],\n",
       "       [1.000000e+00, 1.973000e+03, 3.892729e+06],\n",
       "       [1.000000e+00, 1.974000e+03, 3.896676e+06],\n",
       "       [1.000000e+00, 1.975000e+03, 3.900625e+06],\n",
       "       [1.000000e+00, 1.976000e+03, 3.904576e+06],\n",
       "       [1.000000e+00, 1.977000e+03, 3.908529e+06],\n",
       "       [1.000000e+00, 1.978000e+03, 3.912484e+06],\n",
       "       [1.000000e+00, 1.979000e+03, 3.916441e+06],\n",
       "       [1.000000e+00, 1.980000e+03, 3.920400e+06],\n",
       "       [1.000000e+00, 1.981000e+03, 3.924361e+06],\n",
       "       [1.000000e+00, 1.982000e+03, 3.928324e+06],\n",
       "       [1.000000e+00, 1.983000e+03, 3.932289e+06],\n",
       "       [1.000000e+00, 1.984000e+03, 3.936256e+06],\n",
       "       [1.000000e+00, 1.985000e+03, 3.940225e+06],\n",
       "       [1.000000e+00, 1.986000e+03, 3.944196e+06],\n",
       "       [1.000000e+00, 1.987000e+03, 3.948169e+06],\n",
       "       [1.000000e+00, 1.988000e+03, 3.952144e+06],\n",
       "       [1.000000e+00, 1.989000e+03, 3.956121e+06],\n",
       "       [1.000000e+00, 1.990000e+03, 3.960100e+06],\n",
       "       [1.000000e+00, 1.991000e+03, 3.964081e+06],\n",
       "       [1.000000e+00, 1.992000e+03, 3.968064e+06],\n",
       "       [1.000000e+00, 1.993000e+03, 3.972049e+06],\n",
       "       [1.000000e+00, 1.994000e+03, 3.976036e+06],\n",
       "       [1.000000e+00, 1.995000e+03, 3.980025e+06],\n",
       "       [1.000000e+00, 1.996000e+03, 3.984016e+06],\n",
       "       [1.000000e+00, 1.997000e+03, 3.988009e+06],\n",
       "       [1.000000e+00, 1.998000e+03, 3.992004e+06],\n",
       "       [1.000000e+00, 1.999000e+03, 3.996001e+06]])"
      ]
     },
     "execution_count": 78,
     "metadata": {},
     "output_type": "execute_result"
    }
   ],
   "source": [
    "pipe['dimensions'].transform(year_test)"
   ]
  },
  {
   "cell_type": "code",
   "execution_count": 83,
   "metadata": {
    "collapsed": true
   },
   "outputs": [
    {
     "name": "stderr",
     "output_type": "stream",
     "text": [
      "E:\\anaconda3\\lib\\site-packages\\pandas\\core\\indexing.py:189: SettingWithCopyWarning: \n",
      "A value is trying to be set on a copy of a slice from a DataFrame\n",
      "\n",
      "See the caveats in the documentation: http://pandas.pydata.org/pandas-docs/stable/indexing.html#indexing-view-versus-copy\n",
      "  self._setitem_with_indexer(indexer, value)\n"
     ]
    }
   ],
   "source": [
    "NM_data.GDPRV.loc[0:9] = gdp"
   ]
  },
  {
   "cell_type": "code",
   "execution_count": 135,
   "metadata": {
    "collapsed": true
   },
   "outputs": [],
   "source": [
    "# 分别进行数据填充\n",
    "pipe = pl.Pipeline([('dimensions', sp.PolynomialFeatures(2)), ('line', lm.LinearRegression())])\n",
    "year_pre = np.array(list(range(1960,1970))).reshape(-1,1)\n",
    "year_test =np.array(list(range(1970,1980))).reshape(-1,1)\n",
    "CA_clf = pipe.fit(year_test, CA_data.GDPRV[10:20])\n",
    "gdp = CA_clf.predict(year_pre)"
   ]
  },
  {
   "cell_type": "code",
   "execution_count": 140,
   "metadata": {
    "collapsed": true
   },
   "outputs": [
    {
     "name": "stdout",
     "output_type": "stream",
     "text": [
      "[ 0.00000000e+00 -3.91220768e+06  9.94030303e+02]\n",
      "[ 0.00000000e+00 -6.59022523e+06  1.67386742e+03]\n",
      "[ 0.00000000e+00 -5.38510334e+05  1.36856295e+02]\n"
     ]
    }
   ],
   "source": [
    "print(TX_clf['line'].coef_ )\n",
    "print(CA_clf['line'].coef_)\n",
    "print(AZ_clf['line'].coef_)  # 各个拟合参数"
   ]
  },
  {
   "cell_type": "code",
   "execution_count": 136,
   "metadata": {},
   "outputs": [],
   "source": [
    "gdp.sort()"
   ]
  },
  {
   "cell_type": "code",
   "execution_count": 137,
   "metadata": {
    "collapsed": true
   },
   "outputs": [
    {
     "data": {
      "text/plain": [
       "array([111117.61670303, 111326.79550171, 114883.70915031, 121788.35765076,\n",
       "       132040.74099922, 145640.85919666, 162588.71224689, 182884.3001442 ,\n",
       "       206527.62289143, 233518.68048954])"
      ]
     },
     "execution_count": 137,
     "metadata": {},
     "output_type": "execute_result"
    }
   ],
   "source": [
    "gdp"
   ]
  },
  {
   "cell_type": "code",
   "execution_count": 138,
   "metadata": {
    "collapsed": true
   },
   "outputs": [
    {
     "name": "stderr",
     "output_type": "stream",
     "text": [
      "E:\\anaconda3\\lib\\site-packages\\pandas\\core\\indexing.py:189: SettingWithCopyWarning: \n",
      "A value is trying to be set on a copy of a slice from a DataFrame\n",
      "\n",
      "See the caveats in the documentation: http://pandas.pydata.org/pandas-docs/stable/indexing.html#indexing-view-versus-copy\n",
      "  self._setitem_with_indexer(indexer, value)\n"
     ]
    }
   ],
   "source": [
    "CA_data.GDPRV.loc[0:9] = gdp"
   ]
  },
  {
   "cell_type": "markdown",
   "metadata": {},
   "source": [
    "## 异常数据处理"
   ]
  },
  {
   "cell_type": "code",
   "execution_count": 158,
   "metadata": {},
   "outputs": [],
   "source": [
    "# 3σ原则,进行异常处理，异常数据用线性拟合来填补，只对我们选取的几列\n",
    "a = pd.DataFrame()\n",
    "for i in TX_data.columns:\n",
    "    z = (TX_data[i]-TX_data[i].mean())/TX_data[i].std()\n",
    "    a[i] = abs(z)>3\n",
    "TX_data[a]\n",
    "# 错误数据都在最后几行，可能是突飞猛进导致，不予考虑"
   ]
  },
  {
   "cell_type": "code",
   "execution_count": 170,
   "metadata": {},
   "outputs": [],
   "source": [
    "# [*zip(NM_data['TPOPP'] ,NM_data.iloc[:,0])]"
   ]
  },
  {
   "cell_type": "code",
   "execution_count": 171,
   "metadata": {},
   "outputs": [
    {
     "data": {
      "text/html": [
       "<div>\n",
       "<style scoped>\n",
       "    .dataframe tbody tr th:only-of-type {\n",
       "        vertical-align: middle;\n",
       "    }\n",
       "\n",
       "    .dataframe tbody tr th {\n",
       "        vertical-align: top;\n",
       "    }\n",
       "\n",
       "    .dataframe thead th {\n",
       "        text-align: right;\n",
       "    }\n",
       "</style>\n",
       "<table border=\"1\" class=\"dataframe\">\n",
       "  <thead>\n",
       "    <tr style=\"text-align: right;\">\n",
       "      <th></th>\n",
       "      <th>CLTCB</th>\n",
       "      <th>NGTCB</th>\n",
       "      <th>PATCB</th>\n",
       "      <th>NUETB</th>\n",
       "      <th>BMTCB</th>\n",
       "      <th>GETCB</th>\n",
       "      <th>SOTCB</th>\n",
       "      <th>HYTCB</th>\n",
       "      <th>WYTCB</th>\n",
       "      <th>TECCB</th>\n",
       "      <th>TEICB</th>\n",
       "      <th>TEEIB</th>\n",
       "      <th>TERCB</th>\n",
       "      <th>TEACB</th>\n",
       "      <th>GDPRV</th>\n",
       "    </tr>\n",
       "  </thead>\n",
       "  <tbody>\n",
       "    <tr>\n",
       "      <th>0</th>\n",
       "      <td>4064.49554</td>\n",
       "      <td>207301.185</td>\n",
       "      <td>107204.5834</td>\n",
       "      <td>0</td>\n",
       "      <td>6627.60303</td>\n",
       "      <td>0.0</td>\n",
       "      <td>0.0</td>\n",
       "      <td>745.45280</td>\n",
       "      <td>0.0</td>\n",
       "      <td>23433.48173</td>\n",
       "      <td>170743.0278</td>\n",
       "      <td>37008.26113</td>\n",
       "      <td>43327.46783</td>\n",
       "      <td>91516.29852</td>\n",
       "      <td>1402.241039</td>\n",
       "    </tr>\n",
       "    <tr>\n",
       "      <th>1</th>\n",
       "      <td>3302.62315</td>\n",
       "      <td>218948.040</td>\n",
       "      <td>107688.0542</td>\n",
       "      <td>0</td>\n",
       "      <td>6383.18415</td>\n",
       "      <td>0.0</td>\n",
       "      <td>0.0</td>\n",
       "      <td>553.33140</td>\n",
       "      <td>0.0</td>\n",
       "      <td>25821.80923</td>\n",
       "      <td>166280.4478</td>\n",
       "      <td>38756.07061</td>\n",
       "      <td>46788.54189</td>\n",
       "      <td>101810.65890</td>\n",
       "      <td>1423.288790</td>\n",
       "    </tr>\n",
       "    <tr>\n",
       "      <th>2</th>\n",
       "      <td>2450.69669</td>\n",
       "      <td>247089.690</td>\n",
       "      <td>115309.1271</td>\n",
       "      <td>0</td>\n",
       "      <td>6119.23528</td>\n",
       "      <td>0.0</td>\n",
       "      <td>0.0</td>\n",
       "      <td>672.22786</td>\n",
       "      <td>0.0</td>\n",
       "      <td>29235.98293</td>\n",
       "      <td>190998.4069</td>\n",
       "      <td>40731.08732</td>\n",
       "      <td>47679.46788</td>\n",
       "      <td>108763.33410</td>\n",
       "      <td>1508.884561</td>\n",
       "    </tr>\n",
       "    <tr>\n",
       "      <th>3</th>\n",
       "      <td>15765.31177</td>\n",
       "      <td>239910.808</td>\n",
       "      <td>118502.6722</td>\n",
       "      <td>0</td>\n",
       "      <td>6012.20356</td>\n",
       "      <td>0.0</td>\n",
       "      <td>0.0</td>\n",
       "      <td>456.59592</td>\n",
       "      <td>0.0</td>\n",
       "      <td>28114.77252</td>\n",
       "      <td>179465.4782</td>\n",
       "      <td>58487.43034</td>\n",
       "      <td>51539.05606</td>\n",
       "      <td>111938.92100</td>\n",
       "      <td>1659.028352</td>\n",
       "    </tr>\n",
       "    <tr>\n",
       "      <th>4</th>\n",
       "      <td>31270.83576</td>\n",
       "      <td>226697.344</td>\n",
       "      <td>126464.9774</td>\n",
       "      <td>0</td>\n",
       "      <td>6200.87713</td>\n",
       "      <td>0.0</td>\n",
       "      <td>0.0</td>\n",
       "      <td>98.72989</td>\n",
       "      <td>0.0</td>\n",
       "      <td>32672.22118</td>\n",
       "      <td>173247.3013</td>\n",
       "      <td>76813.24524</td>\n",
       "      <td>51480.46151</td>\n",
       "      <td>109121.67390</td>\n",
       "      <td>1873.720162</td>\n",
       "    </tr>\n",
       "  </tbody>\n",
       "</table>\n",
       "</div>"
      ],
      "text/plain": [
       "         CLTCB       NGTCB        PATCB  NUETB       BMTCB  GETCB  SOTCB  \\\n",
       "0   4064.49554  207301.185  107204.5834      0  6627.60303    0.0    0.0   \n",
       "1   3302.62315  218948.040  107688.0542      0  6383.18415    0.0    0.0   \n",
       "2   2450.69669  247089.690  115309.1271      0  6119.23528    0.0    0.0   \n",
       "3  15765.31177  239910.808  118502.6722      0  6012.20356    0.0    0.0   \n",
       "4  31270.83576  226697.344  126464.9774      0  6200.87713    0.0    0.0   \n",
       "\n",
       "       HYTCB  WYTCB        TECCB        TEICB        TEEIB        TERCB  \\\n",
       "0  745.45280    0.0  23433.48173  170743.0278  37008.26113  43327.46783   \n",
       "1  553.33140    0.0  25821.80923  166280.4478  38756.07061  46788.54189   \n",
       "2  672.22786    0.0  29235.98293  190998.4069  40731.08732  47679.46788   \n",
       "3  456.59592    0.0  28114.77252  179465.4782  58487.43034  51539.05606   \n",
       "4   98.72989    0.0  32672.22118  173247.3013  76813.24524  51480.46151   \n",
       "\n",
       "          TEACB        GDPRV  \n",
       "0   91516.29852  1402.241039  \n",
       "1  101810.65890  1423.288790  \n",
       "2  108763.33410  1508.884561  \n",
       "3  111938.92100  1659.028352  \n",
       "4  109121.67390  1873.720162  "
      ]
     },
     "execution_count": 171,
     "metadata": {},
     "output_type": "execute_result"
    }
   ],
   "source": [
    "NM_data.head()"
   ]
  },
  {
   "cell_type": "code",
   "execution_count": 173,
   "metadata": {},
   "outputs": [
    {
     "data": {
      "text/html": [
       "<div>\n",
       "<style scoped>\n",
       "    .dataframe tbody tr th:only-of-type {\n",
       "        vertical-align: middle;\n",
       "    }\n",
       "\n",
       "    .dataframe tbody tr th {\n",
       "        vertical-align: top;\n",
       "    }\n",
       "\n",
       "    .dataframe thead th {\n",
       "        text-align: right;\n",
       "    }\n",
       "</style>\n",
       "<table border=\"1\" class=\"dataframe\">\n",
       "  <thead>\n",
       "    <tr style=\"text-align: right;\">\n",
       "      <th></th>\n",
       "      <th>CLTCB</th>\n",
       "      <th>NGTCB</th>\n",
       "      <th>PATCB</th>\n",
       "      <th>NUETB</th>\n",
       "      <th>BMTCB</th>\n",
       "      <th>GETCB</th>\n",
       "      <th>SOTCB</th>\n",
       "      <th>HYTCB</th>\n",
       "      <th>WYTCB</th>\n",
       "    </tr>\n",
       "  </thead>\n",
       "  <tbody>\n",
       "    <tr>\n",
       "      <th>0</th>\n",
       "      <td>4064.49554</td>\n",
       "      <td>207301.185</td>\n",
       "      <td>107204.5834</td>\n",
       "      <td>0</td>\n",
       "      <td>6627.60303</td>\n",
       "      <td>0.0</td>\n",
       "      <td>0.0</td>\n",
       "      <td>745.45280</td>\n",
       "      <td>0.0</td>\n",
       "    </tr>\n",
       "    <tr>\n",
       "      <th>1</th>\n",
       "      <td>3302.62315</td>\n",
       "      <td>218948.040</td>\n",
       "      <td>107688.0542</td>\n",
       "      <td>0</td>\n",
       "      <td>6383.18415</td>\n",
       "      <td>0.0</td>\n",
       "      <td>0.0</td>\n",
       "      <td>553.33140</td>\n",
       "      <td>0.0</td>\n",
       "    </tr>\n",
       "    <tr>\n",
       "      <th>2</th>\n",
       "      <td>2450.69669</td>\n",
       "      <td>247089.690</td>\n",
       "      <td>115309.1271</td>\n",
       "      <td>0</td>\n",
       "      <td>6119.23528</td>\n",
       "      <td>0.0</td>\n",
       "      <td>0.0</td>\n",
       "      <td>672.22786</td>\n",
       "      <td>0.0</td>\n",
       "    </tr>\n",
       "    <tr>\n",
       "      <th>3</th>\n",
       "      <td>15765.31177</td>\n",
       "      <td>239910.808</td>\n",
       "      <td>118502.6722</td>\n",
       "      <td>0</td>\n",
       "      <td>6012.20356</td>\n",
       "      <td>0.0</td>\n",
       "      <td>0.0</td>\n",
       "      <td>456.59592</td>\n",
       "      <td>0.0</td>\n",
       "    </tr>\n",
       "    <tr>\n",
       "      <th>4</th>\n",
       "      <td>31270.83576</td>\n",
       "      <td>226697.344</td>\n",
       "      <td>126464.9774</td>\n",
       "      <td>0</td>\n",
       "      <td>6200.87713</td>\n",
       "      <td>0.0</td>\n",
       "      <td>0.0</td>\n",
       "      <td>98.72989</td>\n",
       "      <td>0.0</td>\n",
       "    </tr>\n",
       "  </tbody>\n",
       "</table>\n",
       "</div>"
      ],
      "text/plain": [
       "         CLTCB       NGTCB        PATCB  NUETB       BMTCB  GETCB  SOTCB  \\\n",
       "0   4064.49554  207301.185  107204.5834      0  6627.60303    0.0    0.0   \n",
       "1   3302.62315  218948.040  107688.0542      0  6383.18415    0.0    0.0   \n",
       "2   2450.69669  247089.690  115309.1271      0  6119.23528    0.0    0.0   \n",
       "3  15765.31177  239910.808  118502.6722      0  6012.20356    0.0    0.0   \n",
       "4  31270.83576  226697.344  126464.9774      0  6200.87713    0.0    0.0   \n",
       "\n",
       "       HYTCB  WYTCB  \n",
       "0  745.45280    0.0  \n",
       "1  553.33140    0.0  \n",
       "2  672.22786    0.0  \n",
       "3  456.59592    0.0  \n",
       "4   98.72989    0.0  "
      ]
     },
     "execution_count": 173,
     "metadata": {},
     "output_type": "execute_result"
    }
   ],
   "source": [
    "NM_profile.head()"
   ]
  },
  {
   "cell_type": "code",
   "execution_count": 179,
   "metadata": {},
   "outputs": [],
   "source": [
    "# 取出选取的数据['CLTCB','NGTCB','PATCB','NUETB','BMTCB','GETCB','SOTCB','HYTCB','WYTCB']\n",
    "NM_profile = NM_data.iloc[:,0:9]\n",
    "CA_profile = CA_data.iloc[:,0:9]\n",
    "TX_profile = TX_data.iloc[:,0:9]\n",
    "AZ_profile = AZ_data.iloc[:,0:9]"
   ]
  },
  {
   "cell_type": "code",
   "execution_count": 184,
   "metadata": {},
   "outputs": [],
   "source": [
    "NM_profile = NM_profile.div(NM_ori.TPOPP,axis=0)  #单位 million\n",
    "CA_profile = CA_profile.div(CA_ori.TPOPP,axis=0)\n",
    "TX_profile = TX_profile.div(TX_ori.TPOPP,axis=0) \n",
    "AZ_profile = AZ_profile.div(AZ_ori.TPOPP,axis=0) "
   ]
  },
  {
   "cell_type": "code",
   "execution_count": 194,
   "metadata": {},
   "outputs": [],
   "source": [
    "year = pd.Series(list(range(1960,2010)),name='year')"
   ]
  },
  {
   "cell_type": "code",
   "execution_count": 196,
   "metadata": {},
   "outputs": [],
   "source": [
    "# 筛选出2009年的\n",
    "df = pd.DataFrame([NM_profile.iloc[49],CA_profile.iloc[49],TX_profile.iloc[49],AZ_profile.iloc[49]])"
   ]
  },
  {
   "cell_type": "code",
   "execution_count": 199,
   "metadata": {},
   "outputs": [],
   "source": [
    "state = ['NM','CA','TX','AZ']\n",
    "df.index = state"
   ]
  },
  {
   "cell_type": "code",
   "execution_count": 201,
   "metadata": {},
   "outputs": [],
   "source": [
    "df = df.T"
   ]
  },
  {
   "cell_type": "code",
   "execution_count": 203,
   "metadata": {},
   "outputs": [
    {
     "data": {
      "text/html": [
       "<div>\n",
       "<style scoped>\n",
       "    .dataframe tbody tr th:only-of-type {\n",
       "        vertical-align: middle;\n",
       "    }\n",
       "\n",
       "    .dataframe tbody tr th {\n",
       "        vertical-align: top;\n",
       "    }\n",
       "\n",
       "    .dataframe thead th {\n",
       "        text-align: right;\n",
       "    }\n",
       "</style>\n",
       "<table border=\"1\" class=\"dataframe\">\n",
       "  <thead>\n",
       "    <tr style=\"text-align: right;\">\n",
       "      <th></th>\n",
       "      <th>NM</th>\n",
       "      <th>CA</th>\n",
       "      <th>TX</th>\n",
       "      <th>AZ</th>\n",
       "    </tr>\n",
       "  </thead>\n",
       "  <tbody>\n",
       "    <tr>\n",
       "      <th>CLTCB</th>\n",
       "      <td>152.522913</td>\n",
       "      <td>1.420615</td>\n",
       "      <td>60.468912</td>\n",
       "      <td>62.732497</td>\n",
       "    </tr>\n",
       "    <tr>\n",
       "      <th>NGTCB</th>\n",
       "      <td>123.109505</td>\n",
       "      <td>64.828718</td>\n",
       "      <td>139.770667</td>\n",
       "      <td>57.178906</td>\n",
       "    </tr>\n",
       "    <tr>\n",
       "      <th>PATCB</th>\n",
       "      <td>125.268106</td>\n",
       "      <td>97.322646</td>\n",
       "      <td>222.538057</td>\n",
       "      <td>82.013025</td>\n",
       "    </tr>\n",
       "    <tr>\n",
       "      <th>NUETB</th>\n",
       "      <td>0.000000</td>\n",
       "      <td>9.007072</td>\n",
       "      <td>17.523362</td>\n",
       "      <td>48.685467</td>\n",
       "    </tr>\n",
       "    <tr>\n",
       "      <th>BMTCB</th>\n",
       "      <td>8.616098</td>\n",
       "      <td>6.090459</td>\n",
       "      <td>5.985453</td>\n",
       "      <td>5.375634</td>\n",
       "    </tr>\n",
       "    <tr>\n",
       "      <th>GETCB</th>\n",
       "      <td>0.157956</td>\n",
       "      <td>3.455391</td>\n",
       "      <td>0.083043</td>\n",
       "      <td>0.049957</td>\n",
       "    </tr>\n",
       "    <tr>\n",
       "      <th>SOTCB</th>\n",
       "      <td>0.140749</td>\n",
       "      <td>0.851153</td>\n",
       "      <td>0.033094</td>\n",
       "      <td>0.718333</td>\n",
       "    </tr>\n",
       "    <tr>\n",
       "      <th>HYTCB</th>\n",
       "      <td>1.317481</td>\n",
       "      <td>7.378824</td>\n",
       "      <td>0.405306</td>\n",
       "      <td>9.522494</td>\n",
       "    </tr>\n",
       "    <tr>\n",
       "      <th>WYTCB</th>\n",
       "      <td>7.520478</td>\n",
       "      <td>1.545141</td>\n",
       "      <td>7.890578</td>\n",
       "      <td>0.043773</td>\n",
       "    </tr>\n",
       "  </tbody>\n",
       "</table>\n",
       "</div>"
      ],
      "text/plain": [
       "               NM         CA          TX         AZ\n",
       "CLTCB  152.522913   1.420615   60.468912  62.732497\n",
       "NGTCB  123.109505  64.828718  139.770667  57.178906\n",
       "PATCB  125.268106  97.322646  222.538057  82.013025\n",
       "NUETB    0.000000   9.007072   17.523362  48.685467\n",
       "BMTCB    8.616098   6.090459    5.985453   5.375634\n",
       "GETCB    0.157956   3.455391    0.083043   0.049957\n",
       "SOTCB    0.140749   0.851153    0.033094   0.718333\n",
       "HYTCB    1.317481   7.378824    0.405306   9.522494\n",
       "WYTCB    7.520478   1.545141    7.890578   0.043773"
      ]
     },
     "execution_count": 203,
     "metadata": {},
     "output_type": "execute_result"
    }
   ],
   "source": [
    "# 2009年参数\n",
    "df"
   ]
  },
  {
   "cell_type": "code",
   "execution_count": 204,
   "metadata": {},
   "outputs": [
    {
     "data": {
      "text/plain": [
       "NM    418.653285\n",
       "CA    191.900020\n",
       "TX    454.698472\n",
       "AZ    266.320085\n",
       "dtype: float64"
      ]
     },
     "execution_count": 204,
     "metadata": {},
     "output_type": "execute_result"
    }
   ],
   "source": [
    "# 人均消耗 单位million\n",
    "df.sum()"
   ]
  },
  {
   "cell_type": "code",
   "execution_count": 211,
   "metadata": {},
   "outputs": [],
   "source": [
    "# df.to_csv('energy_profile.csv')\n",
    "df = pd.read_csv('energy_profile.csv',index_col=0)"
   ]
  },
  {
   "cell_type": "code",
   "execution_count": 215,
   "metadata": {},
   "outputs": [],
   "source": [
    "# df.iloc[0,:]                        # 颜色随机生成，但是好丑\n",
    "# colors = np.random.random([9,3]) \n",
    "# colors = ['purple','green','blue','pink','brown','red','light blue','teal','orange']\n",
    "# colors[1]"
   ]
  },
  {
   "cell_type": "code",
   "execution_count": 213,
   "metadata": {},
   "outputs": [],
   "source": [
    "choose = list(df.index)"
   ]
  },
  {
   "cell_type": "code",
   "execution_count": 216,
   "metadata": {},
   "outputs": [
    {
     "data": {
      "image/png": "[encoded data removed]",
      "text/plain": [
       "<Figure size 432x288 with 1 Axes>"
      ]
     },
     "metadata": {
      "needs_background": "light"
     },
     "output_type": "display_data"
    }
   ],
   "source": [
    "fig = plt.figure()\n",
    "\n",
    "axs1 = fig.add_subplot(111)\n",
    "for i in range(len(choose)):\n",
    "    axs1.bar(df.columns, df.iloc[i,:], width=0.4, label=choose[i] ,bottom = df.iloc[:i,:].sum())\n",
    "axs1.legend(loc=8,  shadow=True) \n",
    "axs1.legend(bbox_to_anchor=(1, 0), loc=3, borderaxespad=3)\n",
    "axs1.grid()\n",
    "axs1.set_title('Energy profile in four states in 2009',fontsize=20)\n",
    "axs1.set_ylabel('million Btu')\n",
    "# axs1.bar(index,df)\n",
    "# axs[0].bar(index, salary2, width=0.4, bottom=salary1, label= 'salary2')\n",
    "# axs[0].bar(index, salary3, width=0.4, bottom=salary2+salary1, label= 'salary3')\n",
    "# axs[0].set_ylim(0, 30000)\n",
    "# axs[0].set_xticklabels(name, rotation=90)\n",
    "# axs[0].legend(loc='upper left',  shadow=True)\n",
    "plt.savefig('2009各州.svg',format='svg',bbox_inches='tight')"
   ]
  },
  {
   "cell_type": "markdown",
   "metadata": {},
   "source": [
    "## 问题二 配置演变过程分析"
   ]
  },
  {
   "cell_type": "code",
   "execution_count": null,
   "metadata": {},
   "outputs": [],
   "source": [
    "# 分为可再生不可再生 然后原图加一个拟合\n"
   ]
  },
  {
   "cell_type": "code",
   "execution_count": null,
   "metadata": {},
   "outputs": [],
   "source": []
  }
 ],
 "metadata": {
  "kernelspec": {
   "display_name": "python 3",
   "language": "python",
   "name": "python3"
  },
  "language_info": {
   "codemirror_mode": {
    "name": "ipython",
    "version": 3
   },
   "file_extension": ".py",
   "mimetype": "text/x-python",
   "name": "python",
   "nbconvert_exporter": "python",
   "pygments_lexer": "ipython3",
   "version": "3.7.0"
  }
 },
 "nbformat": 4,
 "nbformat_minor": 2
}
